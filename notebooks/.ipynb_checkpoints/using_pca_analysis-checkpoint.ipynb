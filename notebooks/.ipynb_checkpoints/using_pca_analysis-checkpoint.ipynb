{
 "cells": [
  {
   "cell_type": "code",
   "execution_count": 16,
   "metadata": {},
   "outputs": [],
   "source": [
    "#import dependencies\n",
    "import pandas\n",
    "from sklearn.preprocessing import StandardScaler\n",
    "from sklearn.decomposition import PCA\n",
    "from sklearn.cluster import KMeans\n",
    "import hvplot.pandas"
   ]
  },
  {
   "cell_type": "code",
   "execution_count": 17,
   "metadata": {},
   "outputs": [],
   "source": [
    "#create df\n",
    "iris_df = pandas.read_csv(\"../resources/new_iris_data.csv\")"
   ]
  },
  {
   "cell_type": "code",
   "execution_count": 18,
   "metadata": {},
   "outputs": [
    {
     "data": {
      "text/html": [
       "<div>\n",
       "<style scoped>\n",
       "    .dataframe tbody tr th:only-of-type {\n",
       "        vertical-align: middle;\n",
       "    }\n",
       "\n",
       "    .dataframe tbody tr th {\n",
       "        vertical-align: top;\n",
       "    }\n",
       "\n",
       "    .dataframe thead th {\n",
       "        text-align: right;\n",
       "    }\n",
       "</style>\n",
       "<table border=\"1\" class=\"dataframe\">\n",
       "  <thead>\n",
       "    <tr style=\"text-align: right;\">\n",
       "      <th></th>\n",
       "      <th>sepal_length</th>\n",
       "      <th>sepal_width</th>\n",
       "      <th>petal_length</th>\n",
       "      <th>petal_width</th>\n",
       "    </tr>\n",
       "  </thead>\n",
       "  <tbody>\n",
       "    <tr>\n",
       "      <th>0</th>\n",
       "      <td>5.1</td>\n",
       "      <td>3.5</td>\n",
       "      <td>1.4</td>\n",
       "      <td>0.2</td>\n",
       "    </tr>\n",
       "    <tr>\n",
       "      <th>1</th>\n",
       "      <td>4.9</td>\n",
       "      <td>3.0</td>\n",
       "      <td>1.4</td>\n",
       "      <td>0.2</td>\n",
       "    </tr>\n",
       "    <tr>\n",
       "      <th>2</th>\n",
       "      <td>4.7</td>\n",
       "      <td>3.2</td>\n",
       "      <td>1.3</td>\n",
       "      <td>0.2</td>\n",
       "    </tr>\n",
       "    <tr>\n",
       "      <th>3</th>\n",
       "      <td>4.6</td>\n",
       "      <td>3.1</td>\n",
       "      <td>1.5</td>\n",
       "      <td>0.2</td>\n",
       "    </tr>\n",
       "    <tr>\n",
       "      <th>4</th>\n",
       "      <td>5.0</td>\n",
       "      <td>3.6</td>\n",
       "      <td>1.4</td>\n",
       "      <td>0.2</td>\n",
       "    </tr>\n",
       "  </tbody>\n",
       "</table>\n",
       "</div>"
      ],
      "text/plain": [
       "   sepal_length  sepal_width  petal_length  petal_width\n",
       "0           5.1          3.5           1.4          0.2\n",
       "1           4.9          3.0           1.4          0.2\n",
       "2           4.7          3.2           1.3          0.2\n",
       "3           4.6          3.1           1.5          0.2\n",
       "4           5.0          3.6           1.4          0.2"
      ]
     },
     "execution_count": 18,
     "metadata": {},
     "output_type": "execute_result"
    }
   ],
   "source": [
    "#inspect data\n",
    "iris_df.head()"
   ]
  },
  {
   "cell_type": "code",
   "execution_count": 19,
   "metadata": {},
   "outputs": [
    {
     "name": "stdout",
     "output_type": "stream",
     "text": [
      "[[-0.90068117  1.03205722 -1.3412724  -1.31297673]\n",
      " [-1.14301691 -0.1249576  -1.3412724  -1.31297673]\n",
      " [-1.38535265  0.33784833 -1.39813811 -1.31297673]\n",
      " [-1.50652052  0.10644536 -1.2844067  -1.31297673]\n",
      " [-1.02184904  1.26346019 -1.3412724  -1.31297673]]\n"
     ]
    }
   ],
   "source": [
    "#Standardize data with StandardScaler\n",
    "iris_scaled = StandardScaler().fit_transform(iris_df)\n",
    "print(iris_scaled[0:5])"
   ]
  },
  {
   "cell_type": "code",
   "execution_count": 20,
   "metadata": {},
   "outputs": [],
   "source": [
    "#initialize PCA model\n",
    "pca = PCA(n_components = 2)"
   ]
  },
  {
   "cell_type": "code",
   "execution_count": 21,
   "metadata": {},
   "outputs": [],
   "source": [
    "#get two principal components for the iris data\n",
    "iris_pca = pca.fit_transform(iris_scaled)"
   ]
  },
  {
   "cell_type": "code",
   "execution_count": 22,
   "metadata": {},
   "outputs": [
    {
     "data": {
      "text/html": [
       "<div>\n",
       "<style scoped>\n",
       "    .dataframe tbody tr th:only-of-type {\n",
       "        vertical-align: middle;\n",
       "    }\n",
       "\n",
       "    .dataframe tbody tr th {\n",
       "        vertical-align: top;\n",
       "    }\n",
       "\n",
       "    .dataframe thead th {\n",
       "        text-align: right;\n",
       "    }\n",
       "</style>\n",
       "<table border=\"1\" class=\"dataframe\">\n",
       "  <thead>\n",
       "    <tr style=\"text-align: right;\">\n",
       "      <th></th>\n",
       "      <th>principal component 1</th>\n",
       "      <th>principal component 2</th>\n",
       "    </tr>\n",
       "  </thead>\n",
       "  <tbody>\n",
       "    <tr>\n",
       "      <th>0</th>\n",
       "      <td>-2.264542</td>\n",
       "      <td>0.505704</td>\n",
       "    </tr>\n",
       "    <tr>\n",
       "      <th>1</th>\n",
       "      <td>-2.086426</td>\n",
       "      <td>-0.655405</td>\n",
       "    </tr>\n",
       "    <tr>\n",
       "      <th>2</th>\n",
       "      <td>-2.367950</td>\n",
       "      <td>-0.318477</td>\n",
       "    </tr>\n",
       "    <tr>\n",
       "      <th>3</th>\n",
       "      <td>-2.304197</td>\n",
       "      <td>-0.575368</td>\n",
       "    </tr>\n",
       "    <tr>\n",
       "      <th>4</th>\n",
       "      <td>-2.388777</td>\n",
       "      <td>0.674767</td>\n",
       "    </tr>\n",
       "  </tbody>\n",
       "</table>\n",
       "</div>"
      ],
      "text/plain": [
       "   principal component 1  principal component 2\n",
       "0              -2.264542               0.505704\n",
       "1              -2.086426              -0.655405\n",
       "2              -2.367950              -0.318477\n",
       "3              -2.304197              -0.575368\n",
       "4              -2.388777               0.674767"
      ]
     },
     "execution_count": 22,
     "metadata": {},
     "output_type": "execute_result"
    }
   ],
   "source": [
    "#transform PCA data to a DataFrame\n",
    "iris_pca_df = pandas.DataFrame(\n",
    "    data = iris_pca,\n",
    "    columns = [\"principal component 1\", \"principal component 2\"]\n",
    ")\n",
    "iris_pca_df.head()"
   ]
  },
  {
   "cell_type": "code",
   "execution_count": 23,
   "metadata": {},
   "outputs": [
    {
     "data": {
      "text/plain": [
       "'\\nWhat this tells us is that the first principal component contains 72.77 % of the variance \\nand the second contains 23.03 %. Together they contain 95.80 % of the information\\n'"
      ]
     },
     "execution_count": 23,
     "metadata": {},
     "output_type": "execute_result"
    }
   ],
   "source": [
    "# fetch the explained variance\n",
    "pca.explained_variance_ratio_\n",
    "'''\n",
    "What this tells us is that the first principal component contains 72.77 % of the variance \n",
    "and the second contains 23.03 %. Together they contain 95.80 % of the information\n",
    "'''"
   ]
  },
  {
   "cell_type": "code",
   "execution_count": 24,
   "metadata": {},
   "outputs": [
    {
     "data": {},
     "metadata": {},
     "output_type": "display_data"
    },
    {
     "data": {
      "application/vnd.holoviews_exec.v0+json": "",
      "text/html": [
       "<div id='1102'>\n",
       "\n",
       "\n",
       "\n",
       "\n",
       "\n",
       "  <div class=\"bk-root\" id=\"09335a28-79c8-4447-bd4e-5de519e74241\" data-root-id=\"1102\"></div>\n",
       "</div>\n",
       "<script type=\"application/javascript\">(function(root) {\n",
       "  function embed_document(root) {\n",
       "    var docs_json = {\"aa2d5134-5a23-4dba-93a6-f79fe2cdf04a\":{\"roots\":{\"references\":[{\"attributes\":{\"end\":629.4464234300633,\"reset_end\":629.4464234300633,\"reset_start\":-26.240431703993533,\"start\":-26.240431703993533,\"tags\":[[[\"inertia\",\"inertia\",null]]]},\"id\":\"1105\",\"type\":\"Range1d\"},{\"attributes\":{},\"id\":\"1128\",\"type\":\"ResetTool\"},{\"attributes\":{\"end\":10.0,\"reset_end\":10.0,\"reset_start\":1.0,\"start\":1.0,\"tags\":[[[\"k\",\"k\",null]]]},\"id\":\"1104\",\"type\":\"Range1d\"},{\"attributes\":{\"data_source\":{\"id\":\"1137\"},\"glyph\":{\"id\":\"1140\"},\"hover_glyph\":null,\"muted_glyph\":{\"id\":\"1142\"},\"nonselection_glyph\":{\"id\":\"1141\"},\"selection_glyph\":null,\"view\":{\"id\":\"1144\"}},\"id\":\"1143\",\"type\":\"GlyphRenderer\"},{\"attributes\":{\"source\":{\"id\":\"1137\"}},\"id\":\"1144\",\"type\":\"CDSView\"},{\"attributes\":{},\"id\":\"1138\",\"type\":\"Selection\"},{\"attributes\":{},\"id\":\"1121\",\"type\":\"BasicTicker\"},{\"attributes\":{},\"id\":\"1125\",\"type\":\"PanTool\"},{\"attributes\":{},\"id\":\"1151\",\"type\":\"BasicTickFormatter\"},{\"attributes\":{\"line_color\":\"#1f77b3\",\"line_width\":2,\"x\":{\"field\":\"k\"},\"y\":{\"field\":\"inertia\"}},\"id\":\"1140\",\"type\":\"Line\"},{\"attributes\":{\"axis_label\":\"inertia\",\"bounds\":\"auto\",\"formatter\":{\"id\":\"1151\"},\"major_label_orientation\":\"horizontal\",\"ticker\":{\"id\":\"1121\"}},\"id\":\"1120\",\"type\":\"LinearAxis\"},{\"attributes\":{\"below\":[{\"id\":\"1116\"}],\"center\":[{\"id\":\"1119\"},{\"id\":\"1123\"}],\"left\":[{\"id\":\"1120\"}],\"margin\":[5,5,5,5],\"min_border_bottom\":10,\"min_border_left\":10,\"min_border_right\":10,\"min_border_top\":10,\"plot_height\":300,\"plot_width\":700,\"renderers\":[{\"id\":\"1143\"}],\"sizing_mode\":\"fixed\",\"title\":{\"id\":\"1108\"},\"toolbar\":{\"id\":\"1130\"},\"x_range\":{\"id\":\"1104\"},\"x_scale\":{\"id\":\"1112\"},\"y_range\":{\"id\":\"1105\"},\"y_scale\":{\"id\":\"1114\"}},\"id\":\"1107\",\"subtype\":\"Figure\",\"type\":\"Plot\"},{\"attributes\":{\"callback\":null,\"renderers\":[{\"id\":\"1143\"}],\"tags\":[\"hv_created\"],\"tooltips\":[[\"k\",\"@{k}\"],[\"inertia\",\"@{inertia}\"]]},\"id\":\"1106\",\"type\":\"HoverTool\"},{\"attributes\":{},\"id\":\"1147\",\"type\":\"BasicTickFormatter\"},{\"attributes\":{\"line_alpha\":0.1,\"line_color\":\"#1f77b3\",\"line_width\":2,\"x\":{\"field\":\"k\"},\"y\":{\"field\":\"inertia\"}},\"id\":\"1141\",\"type\":\"Line\"},{\"attributes\":{},\"id\":\"1114\",\"type\":\"LinearScale\"},{\"attributes\":{},\"id\":\"1158\",\"type\":\"UnionRenderers\"},{\"attributes\":{\"axis\":{\"id\":\"1120\"},\"dimension\":1,\"grid_line_color\":null,\"ticker\":null},\"id\":\"1123\",\"type\":\"Grid\"},{\"attributes\":{},\"id\":\"1124\",\"type\":\"SaveTool\"},{\"attributes\":{\"ticks\":[1,2,3,4,5,6,7,8,9,10]},\"id\":\"1145\",\"type\":\"FixedTicker\"},{\"attributes\":{\"axis_label\":\"k\",\"bounds\":\"auto\",\"formatter\":{\"id\":\"1147\"},\"major_label_orientation\":\"horizontal\",\"ticker\":{\"id\":\"1145\"}},\"id\":\"1116\",\"type\":\"LinearAxis\"},{\"attributes\":{\"margin\":[5,5,5,5],\"name\":\"HSpacer01739\",\"sizing_mode\":\"stretch_width\"},\"id\":\"1166\",\"type\":\"Spacer\"},{\"attributes\":{\"text\":\"Elbow Curve\",\"text_color\":{\"value\":\"black\"},\"text_font_size\":{\"value\":\"12pt\"}},\"id\":\"1108\",\"type\":\"Title\"},{\"attributes\":{\"margin\":[5,5,5,5],\"name\":\"HSpacer01738\",\"sizing_mode\":\"stretch_width\"},\"id\":\"1103\",\"type\":\"Spacer\"},{\"attributes\":{},\"id\":\"1112\",\"type\":\"LinearScale\"},{\"attributes\":{\"axis\":{\"id\":\"1116\"},\"grid_line_color\":null,\"ticker\":null},\"id\":\"1119\",\"type\":\"Grid\"},{\"attributes\":{\"line_alpha\":0.2,\"line_color\":\"#1f77b3\",\"line_width\":2,\"x\":{\"field\":\"k\"},\"y\":{\"field\":\"inertia\"}},\"id\":\"1142\",\"type\":\"Line\"},{\"attributes\":{\"data\":{\"inertia\":{\"__ndarray__\":\"aTafYnL2gUA2bWBmntZoQKumqsr9Bl1AkO/4E2huVkDl0qR94pNQQP/j3qojokxAlRm84Hb7R0CcL3dCGh9EQMdsY3u0F0BANerHi29mPEA=\",\"dtype\":\"float64\",\"order\":\"little\",\"shape\":[10]},\"k\":[1,2,3,4,5,6,7,8,9,10]},\"selected\":{\"id\":\"1138\"},\"selection_policy\":{\"id\":\"1158\"}},\"id\":\"1137\",\"type\":\"ColumnDataSource\"},{\"attributes\":{},\"id\":\"1126\",\"type\":\"WheelZoomTool\"},{\"attributes\":{\"active_drag\":\"auto\",\"active_inspect\":\"auto\",\"active_multi\":null,\"active_scroll\":\"auto\",\"active_tap\":\"auto\",\"tools\":[{\"id\":\"1106\"},{\"id\":\"1124\"},{\"id\":\"1125\"},{\"id\":\"1126\"},{\"id\":\"1127\"},{\"id\":\"1128\"}]},\"id\":\"1130\",\"type\":\"Toolbar\"},{\"attributes\":{\"overlay\":{\"id\":\"1129\"}},\"id\":\"1127\",\"type\":\"BoxZoomTool\"},{\"attributes\":{\"children\":[{\"id\":\"1103\"},{\"id\":\"1107\"},{\"id\":\"1166\"}],\"margin\":[0,0,0,0],\"name\":\"Row01734\",\"tags\":[\"embedded\"]},\"id\":\"1102\",\"type\":\"Row\"},{\"attributes\":{\"bottom_units\":\"screen\",\"fill_alpha\":0.5,\"fill_color\":\"lightgrey\",\"left_units\":\"screen\",\"level\":\"overlay\",\"line_alpha\":1.0,\"line_color\":\"black\",\"line_dash\":[4,4],\"line_width\":2,\"right_units\":\"screen\",\"top_units\":\"screen\"},\"id\":\"1129\",\"type\":\"BoxAnnotation\"}],\"root_ids\":[\"1102\"]},\"title\":\"Bokeh Application\",\"version\":\"2.2.3\"}};\n",
       "    var render_items = [{\"docid\":\"aa2d5134-5a23-4dba-93a6-f79fe2cdf04a\",\"root_ids\":[\"1102\"],\"roots\":{\"1102\":\"09335a28-79c8-4447-bd4e-5de519e74241\"}}];\n",
       "    root.Bokeh.embed.embed_items_notebook(docs_json, render_items);\n",
       "  }\n",
       "  if (root.Bokeh !== undefined && root.Bokeh.Panel !== undefined) {\n",
       "    embed_document(root);\n",
       "  } else {\n",
       "    var attempts = 0;\n",
       "    var timer = setInterval(function(root) {\n",
       "      if (root.Bokeh !== undefined && root.Bokeh.Panel !== undefined) {\n",
       "        clearInterval(timer);\n",
       "        embed_document(root);\n",
       "      } else if (document.readyState == \"complete\") {\n",
       "        attempts++;\n",
       "        if (attempts > 100) {\n",
       "          clearInterval(timer);\n",
       "          console.log(\"Bokeh: ERROR: Unable to run BokehJS code because BokehJS library is missing\");\n",
       "        }\n",
       "      }\n",
       "    }, 10, root)\n",
       "  }\n",
       "})(window);</script>"
      ],
      "text/plain": [
       ":Curve   [k]   (inertia)"
      ]
     },
     "execution_count": 24,
     "metadata": {
      "application/vnd.holoviews_exec.v0+json": {
       "id": "1102"
      }
     },
     "output_type": "execute_result"
    }
   ],
   "source": [
    "#find the best value for K\n",
    "\n",
    "#create k from range function\n",
    "k = list(range(1,11))\n",
    "\n",
    "#create inertia with k loop\n",
    "inertia = [KMeans(n_clusters=i, random_state=0).fit(iris_pca_df).inertia_ for i in k]\n",
    "\n",
    "#create elbow curve\n",
    "\n",
    "pandas.DataFrame({\n",
    "    \"k\":k,\n",
    "    \"inertia\":inertia,\n",
    "}).hvplot.line(\n",
    "    x = \"k\",\n",
    "    y = \"inertia\",\n",
    "    xticks = k,\n",
    "    title = \"Elbow Curve\"\n",
    ")"
   ]
  },
  {
   "cell_type": "code",
   "execution_count": 25,
   "metadata": {},
   "outputs": [
    {
     "data": {
      "text/html": [
       "<div>\n",
       "<style scoped>\n",
       "    .dataframe tbody tr th:only-of-type {\n",
       "        vertical-align: middle;\n",
       "    }\n",
       "\n",
       "    .dataframe tbody tr th {\n",
       "        vertical-align: top;\n",
       "    }\n",
       "\n",
       "    .dataframe thead th {\n",
       "        text-align: right;\n",
       "    }\n",
       "</style>\n",
       "<table border=\"1\" class=\"dataframe\">\n",
       "  <thead>\n",
       "    <tr style=\"text-align: right;\">\n",
       "      <th></th>\n",
       "      <th>principal component 1</th>\n",
       "      <th>principal component 2</th>\n",
       "      <th>class</th>\n",
       "    </tr>\n",
       "  </thead>\n",
       "  <tbody>\n",
       "    <tr>\n",
       "      <th>0</th>\n",
       "      <td>-2.264542</td>\n",
       "      <td>0.505704</td>\n",
       "      <td>1</td>\n",
       "    </tr>\n",
       "    <tr>\n",
       "      <th>1</th>\n",
       "      <td>-2.086426</td>\n",
       "      <td>-0.655405</td>\n",
       "      <td>1</td>\n",
       "    </tr>\n",
       "    <tr>\n",
       "      <th>2</th>\n",
       "      <td>-2.367950</td>\n",
       "      <td>-0.318477</td>\n",
       "      <td>1</td>\n",
       "    </tr>\n",
       "    <tr>\n",
       "      <th>3</th>\n",
       "      <td>-2.304197</td>\n",
       "      <td>-0.575368</td>\n",
       "      <td>1</td>\n",
       "    </tr>\n",
       "    <tr>\n",
       "      <th>4</th>\n",
       "      <td>-2.388777</td>\n",
       "      <td>0.674767</td>\n",
       "      <td>1</td>\n",
       "    </tr>\n",
       "  </tbody>\n",
       "</table>\n",
       "</div>"
      ],
      "text/plain": [
       "   principal component 1  principal component 2  class\n",
       "0              -2.264542               0.505704      1\n",
       "1              -2.086426              -0.655405      1\n",
       "2              -2.367950              -0.318477      1\n",
       "3              -2.304197              -0.575368      1\n",
       "4              -2.388777               0.674767      1"
      ]
     },
     "execution_count": 25,
     "metadata": {},
     "output_type": "execute_result"
    }
   ],
   "source": [
    "#initialize the K-means model\n",
    "model = KMeans(\n",
    "    n_clusters = 3,\n",
    "    random_state = 0\n",
    ")\n",
    "# fit the model\n",
    "model.fit(iris_pca_df)\n",
    "\n",
    "#predict clusters and save as class column\n",
    "iris_pca_df[\"class\"] = model.predict(iris_pca_df)\n",
    "\n",
    "#inspect df\n",
    "iris_pca_df.head()"
   ]
  },
  {
   "cell_type": "code",
   "execution_count": 26,
   "metadata": {},
   "outputs": [
    {
     "data": {},
     "metadata": {},
     "output_type": "display_data"
    },
    {
     "data": {
      "application/vnd.holoviews_exec.v0+json": "",
      "text/html": [
       "<div id='1203'>\n",
       "\n",
       "\n",
       "\n",
       "\n",
       "\n",
       "  <div class=\"bk-root\" id=\"1ac8d09f-c0cf-44cb-8a4c-0bcf47919f3c\" data-root-id=\"1203\"></div>\n",
       "</div>\n",
       "<script type=\"application/javascript\">(function(root) {\n",
       "  function embed_document(root) {\n",
       "    var docs_json = {\"6d3443a0-e96e-4089-ad0b-596b2945defc\":{\"roots\":{\"references\":[{\"attributes\":{\"fill_alpha\":{\"value\":0.2},\"fill_color\":{\"value\":\"#1f77b3\"},\"line_alpha\":{\"value\":0.2},\"line_color\":{\"value\":\"#1f77b3\"},\"size\":{\"units\":\"screen\",\"value\":5.477225575051661},\"x\":{\"field\":\"principal component 1\"},\"y\":{\"field\":\"principal component 2\"}},\"id\":\"1249\",\"type\":\"Scatter\"},{\"attributes\":{\"margin\":[5,5,5,5],\"name\":\"HSpacer01970\",\"sizing_mode\":\"stretch_width\"},\"id\":\"1204\",\"type\":\"Spacer\"},{\"attributes\":{},\"id\":\"1279\",\"type\":\"UnionRenderers\"},{\"attributes\":{\"label\":{\"value\":\"1\"},\"renderers\":[{\"id\":\"1268\"}]},\"id\":\"1280\",\"type\":\"LegendItem\"},{\"attributes\":{\"children\":[{\"id\":\"1204\"},{\"id\":\"1210\"},{\"id\":\"1410\"}],\"margin\":[0,0,0,0],\"name\":\"Row01966\",\"tags\":[\"embedded\"]},\"id\":\"1203\",\"type\":\"Row\"},{\"attributes\":{\"axis\":{\"id\":\"1223\"},\"dimension\":1,\"grid_line_color\":null,\"ticker\":null},\"id\":\"1226\",\"type\":\"Grid\"},{\"attributes\":{\"data_source\":{\"id\":\"1244\"},\"glyph\":{\"id\":\"1247\"},\"hover_glyph\":null,\"muted_glyph\":{\"id\":\"1249\"},\"nonselection_glyph\":{\"id\":\"1248\"},\"selection_glyph\":null,\"view\":{\"id\":\"1251\"}},\"id\":\"1250\",\"type\":\"GlyphRenderer\"},{\"attributes\":{\"click_policy\":\"mute\",\"items\":[{\"id\":\"1261\"},{\"id\":\"1280\"},{\"id\":\"1301\"}],\"location\":[0,0],\"title\":\"class\"},\"id\":\"1260\",\"type\":\"Legend\"},{\"attributes\":{},\"id\":\"1220\",\"type\":\"BasicTicker\"},{\"attributes\":{},\"id\":\"1282\",\"type\":\"Selection\"},{\"attributes\":{\"axis\":{\"id\":\"1219\"},\"grid_line_color\":null,\"ticker\":null},\"id\":\"1222\",\"type\":\"Grid\"},{\"attributes\":{\"fill_color\":{\"value\":\"#2ba02b\"},\"line_color\":{\"value\":\"#2ba02b\"},\"size\":{\"units\":\"screen\",\"value\":5.477225575051661},\"x\":{\"field\":\"principal component 1\"},\"y\":{\"field\":\"principal component 2\"}},\"id\":\"1284\",\"type\":\"Scatter\"},{\"attributes\":{\"fill_alpha\":{\"value\":0.2},\"fill_color\":{\"value\":\"#ff7e0e\"},\"line_alpha\":{\"value\":0.2},\"line_color\":{\"value\":\"#ff7e0e\"},\"size\":{\"units\":\"screen\",\"value\":5.477225575051661},\"x\":{\"field\":\"principal component 1\"},\"y\":{\"field\":\"principal component 2\"}},\"id\":\"1267\",\"type\":\"Scatter\"},{\"attributes\":{},\"id\":\"1224\",\"type\":\"BasicTicker\"},{\"attributes\":{},\"id\":\"1259\",\"type\":\"UnionRenderers\"},{\"attributes\":{\"below\":[{\"id\":\"1219\"}],\"center\":[{\"id\":\"1222\"},{\"id\":\"1226\"}],\"left\":[{\"id\":\"1223\"}],\"margin\":[5,5,5,5],\"min_border_bottom\":10,\"min_border_left\":10,\"min_border_right\":10,\"min_border_top\":10,\"plot_height\":300,\"plot_width\":700,\"renderers\":[{\"id\":\"1250\"},{\"id\":\"1268\"},{\"id\":\"1287\"}],\"right\":[{\"id\":\"1260\"}],\"sizing_mode\":\"fixed\",\"title\":{\"id\":\"1211\"},\"toolbar\":{\"id\":\"1233\"},\"x_range\":{\"id\":\"1205\"},\"x_scale\":{\"id\":\"1215\"},\"y_range\":{\"id\":\"1206\"},\"y_scale\":{\"id\":\"1217\"}},\"id\":\"1210\",\"subtype\":\"Figure\",\"type\":\"Plot\"},{\"attributes\":{\"axis_label\":\"principal component 2\",\"bounds\":\"auto\",\"formatter\":{\"id\":\"1243\"},\"major_label_orientation\":\"horizontal\",\"ticker\":{\"id\":\"1224\"}},\"id\":\"1223\",\"type\":\"LinearAxis\"},{\"attributes\":{\"source\":{\"id\":\"1244\"}},\"id\":\"1251\",\"type\":\"CDSView\"},{\"attributes\":{\"fill_alpha\":{\"value\":0.1},\"fill_color\":{\"value\":\"#2ba02b\"},\"line_alpha\":{\"value\":0.1},\"line_color\":{\"value\":\"#2ba02b\"},\"size\":{\"units\":\"screen\",\"value\":5.477225575051661},\"x\":{\"field\":\"principal component 1\"},\"y\":{\"field\":\"principal component 2\"}},\"id\":\"1285\",\"type\":\"Scatter\"},{\"attributes\":{\"end\":3.5698545102352774,\"reset_end\":3.5698545102352774,\"reset_start\":-3.034883121264354,\"start\":-3.034883121264354,\"tags\":[[[\"principal component 1\",\"principal component 1\",null]]]},\"id\":\"1205\",\"type\":\"Range1d\"},{\"attributes\":{\"fill_alpha\":{\"value\":0.1},\"fill_color\":{\"value\":\"#1f77b3\"},\"line_alpha\":{\"value\":0.1},\"line_color\":{\"value\":\"#1f77b3\"},\"size\":{\"units\":\"screen\",\"value\":5.477225575051661},\"x\":{\"field\":\"principal component 1\"},\"y\":{\"field\":\"principal component 2\"}},\"id\":\"1248\",\"type\":\"Scatter\"},{\"attributes\":{\"source\":{\"id\":\"1281\"}},\"id\":\"1288\",\"type\":\"CDSView\"},{\"attributes\":{\"axis_label\":\"principal component 1\",\"bounds\":\"auto\",\"formatter\":{\"id\":\"1241\"},\"major_label_orientation\":\"horizontal\",\"ticker\":{\"id\":\"1220\"}},\"id\":\"1219\",\"type\":\"LinearAxis\"},{\"attributes\":{\"label\":{\"value\":\"0\"},\"renderers\":[{\"id\":\"1250\"}]},\"id\":\"1261\",\"type\":\"LegendItem\"},{\"attributes\":{\"bottom_units\":\"screen\",\"fill_alpha\":0.5,\"fill_color\":\"lightgrey\",\"left_units\":\"screen\",\"level\":\"overlay\",\"line_alpha\":1.0,\"line_color\":\"black\",\"line_dash\":[4,4],\"line_width\":2,\"right_units\":\"screen\",\"top_units\":\"screen\"},\"id\":\"1232\",\"type\":\"BoxAnnotation\"},{\"attributes\":{},\"id\":\"1245\",\"type\":\"Selection\"},{\"attributes\":{\"data_source\":{\"id\":\"1281\"},\"glyph\":{\"id\":\"1284\"},\"hover_glyph\":null,\"muted_glyph\":{\"id\":\"1286\"},\"nonselection_glyph\":{\"id\":\"1285\"},\"selection_glyph\":null,\"view\":{\"id\":\"1288\"}},\"id\":\"1287\",\"type\":\"GlyphRenderer\"},{\"attributes\":{},\"id\":\"1243\",\"type\":\"BasicTickFormatter\"},{\"attributes\":{\"end\":3.260414452028094,\"reset_end\":3.260414452028094,\"reset_start\":-3.1961060534153853,\"start\":-3.1961060534153853,\"tags\":[[[\"principal component 2\",\"principal component 2\",null]]]},\"id\":\"1206\",\"type\":\"Range1d\"},{\"attributes\":{\"data\":{\"class\":{\"__ndarray__\":\"AQAAAAEAAAABAAAAAQAAAAEAAAABAAAAAQAAAAEAAAABAAAAAQAAAAEAAAABAAAAAQAAAAEAAAABAAAAAQAAAAEAAAABAAAAAQAAAAEAAAABAAAAAQAAAAEAAAABAAAAAQAAAAEAAAABAAAAAQAAAAEAAAABAAAAAQAAAAEAAAABAAAAAQAAAAEAAAABAAAAAQAAAAEAAAABAAAAAQAAAAEAAAABAAAAAQAAAAEAAAABAAAAAQAAAAEAAAABAAAAAQAAAAEAAAA=\",\"dtype\":\"int32\",\"order\":\"little\",\"shape\":[50]},\"principal component 1\":{\"__ndarray__\":\"RxG/DcgdAsCfflXa/7AAwC8tSgGQ8QLArnjV6/5uAsCAOOBfNxwDwLMJAJp1kADA7VhZG9GQA8C6vPx66N4BwLrvZ05UvALA5NUzb2iCAcDHACQK0k4BwIGPWzp4ngLAbUHW4evKAcBzYBiPIx4FwOJkYiHQiQHA78LFMQADAsDEicmkO58BwNTnRqd8hQHAE7KL2CBO/r9wMd43N7gCwDou6+IFov6/KnpNIB2jAcAlHszufzEGwHSyHOBnIP2/dG9EsmPTAcBqStBn+E//v+oJWiugagDA0RcE6nVYAcD06Z27WB8BwCUNM3l7JgLA4OURJwwoAcCyCNRTnk/9v3iUD3eZ3QTAyYxIYeyAA8Dk1TNvaIIBwAfB4qBfsAHAqgtPDPdaAMDk1TNvaIIBwJ/dMoLUfAPAVSP02UddAcA94QHLzkoCwGNzDEaD8v2/Yflj5HF2BMD8iQQfsG3/v/mHnMYlEQHAoe7lFFWaAMDS+qMb0QwDwJNmoB9/LwPALZosq3LQAcDejpZMy6UBwA==\",\"dtype\":\"float64\",\"order\":\"little\",\"shape\":[50]},\"principal component 2\":{\"__ndarray__\":\"be9787ku4D/1F8lWE/nkv2vYpqjuYdS/ECSQjGlp4r/X0afLsZflP72+IZP5S/g/QiSoGooWsz99eXQ10LHPP9AIOjG4hfG/iE6pnFa23L9qMKXTKCHxPzK/qP2XTMQ/pao3kBix5r+LiXLvZwbuv92ryBtaPf4/lbWrfGrHBUBijF03Ujj4Pzj+/04udeA/9Uk0V9Tl9j8ppZIPTofyP3DAlsG9jNs/3/KSxId67j9Gu+o4P1TfPxvWDBwFVLs/Ue1BJITCxD+3YRod23Pjv2+qjuRgBtE/cYxIfx6q4T/gGaA2hIvVP15BWpX4JtS/RwayRej43r8Qlx54QH/cP7xxJTRvQf0/x7Jwma57AUCITqmcVrbcvxnn16FhmMe/tOVDvSnr5T+ITqmcVrbcv3rEP1q7Ouy/eUSP1gm80j9ZwmaGk/PdP4B/28YcnwLAqO8l3FML3b9pssu+Q9XfP+/eGJkvvvI/+4wv2S8k5r9VqsG4/WjyP9WttwhpMde/ee6vZGBo8D/n7UmWeoGgPw==\",\"dtype\":\"float64\",\"order\":\"little\",\"shape\":[50]},\"principal_component_1\":{\"__ndarray__\":\"RxG/DcgdAsCfflXa/7AAwC8tSgGQ8QLArnjV6/5uAsCAOOBfNxwDwLMJAJp1kADA7VhZG9GQA8C6vPx66N4BwLrvZ05UvALA5NUzb2iCAcDHACQK0k4BwIGPWzp4ngLAbUHW4evKAcBzYBiPIx4FwOJkYiHQiQHA78LFMQADAsDEicmkO58BwNTnRqd8hQHAE7KL2CBO/r9wMd43N7gCwDou6+IFov6/KnpNIB2jAcAlHszufzEGwHSyHOBnIP2/dG9EsmPTAcBqStBn+E//v+oJWiugagDA0RcE6nVYAcD06Z27WB8BwCUNM3l7JgLA4OURJwwoAcCyCNRTnk/9v3iUD3eZ3QTAyYxIYeyAA8Dk1TNvaIIBwAfB4qBfsAHAqgtPDPdaAMDk1TNvaIIBwJ/dMoLUfAPAVSP02UddAcA94QHLzkoCwGNzDEaD8v2/Yflj5HF2BMD8iQQfsG3/v/mHnMYlEQHAoe7lFFWaAMDS+qMb0QwDwJNmoB9/LwPALZosq3LQAcDejpZMy6UBwA==\",\"dtype\":\"float64\",\"order\":\"little\",\"shape\":[50]},\"principal_component_2\":{\"__ndarray__\":\"be9787ku4D/1F8lWE/nkv2vYpqjuYdS/ECSQjGlp4r/X0afLsZflP72+IZP5S/g/QiSoGooWsz99eXQ10LHPP9AIOjG4hfG/iE6pnFa23L9qMKXTKCHxPzK/qP2XTMQ/pao3kBix5r+LiXLvZwbuv92ryBtaPf4/lbWrfGrHBUBijF03Ujj4Pzj+/04udeA/9Uk0V9Tl9j8ppZIPTofyP3DAlsG9jNs/3/KSxId67j9Gu+o4P1TfPxvWDBwFVLs/Ue1BJITCxD+3YRod23Pjv2+qjuRgBtE/cYxIfx6q4T/gGaA2hIvVP15BWpX4JtS/RwayRej43r8Qlx54QH/cP7xxJTRvQf0/x7Jwma57AUCITqmcVrbcvxnn16FhmMe/tOVDvSnr5T+ITqmcVrbcv3rEP1q7Ouy/eUSP1gm80j9ZwmaGk/PdP4B/28YcnwLAqO8l3FML3b9pssu+Q9XfP+/eGJkvvvI/+4wv2S8k5r9VqsG4/WjyP9WttwhpMde/ee6vZGBo8D/n7UmWeoGgPw==\",\"dtype\":\"float64\",\"order\":\"little\",\"shape\":[50]}},\"selected\":{\"id\":\"1263\"},\"selection_policy\":{\"id\":\"1279\"}},\"id\":\"1262\",\"type\":\"ColumnDataSource\"},{\"attributes\":{\"margin\":[5,5,5,5],\"name\":\"HSpacer01971\",\"sizing_mode\":\"stretch_width\"},\"id\":\"1410\",\"type\":\"Spacer\"},{\"attributes\":{},\"id\":\"1263\",\"type\":\"Selection\"},{\"attributes\":{\"active_drag\":\"auto\",\"active_inspect\":\"auto\",\"active_multi\":null,\"active_scroll\":\"auto\",\"active_tap\":\"auto\",\"tools\":[{\"id\":\"1207\"},{\"id\":\"1227\"},{\"id\":\"1228\"},{\"id\":\"1229\"},{\"id\":\"1230\"},{\"id\":\"1231\"}]},\"id\":\"1233\",\"type\":\"Toolbar\"},{\"attributes\":{},\"id\":\"1241\",\"type\":\"BasicTickFormatter\"},{\"attributes\":{\"source\":{\"id\":\"1262\"}},\"id\":\"1269\",\"type\":\"CDSView\"},{\"attributes\":{},\"id\":\"1227\",\"type\":\"SaveTool\"},{\"attributes\":{\"data\":{\"class\":{\"__ndarray__\":\"AgAAAAIAAAACAAAAAgAAAAIAAAACAAAAAgAAAAIAAAACAAAAAgAAAAIAAAACAAAAAgAAAAIAAAACAAAAAgAAAAIAAAACAAAAAgAAAAIAAAACAAAAAgAAAAIAAAACAAAAAgAAAAIAAAACAAAAAgAAAAIAAAACAAAAAgAAAAIAAAACAAAAAgAAAAIAAAACAAAAAgAAAAIAAAACAAAAAgAAAAIAAAACAAAAAgAAAAIAAAACAAAAAgAAAAIAAAACAAAAAgAAAAIAAAACAAAAAgAAAAIAAAA=\",\"dtype\":\"int32\",\"order\":\"little\",\"shape\":[53]},\"principal component 1\":{\"__ndarray__\":\"fRWMhntt2T9KnJZFWCnxP2mBHlf2mtg/8v4dZv7c3791GywXnaPtP36/kDZaWXQ/AN6FPizsv7+wz+h8JxTcP1lNsk78puE/O0UqJwTz5j/Lz63ghxOjv5Nu06S8RdY/5rIv7V2iwz9n6iTH4XHzPyvYZACmFsQ/Xa1SDE473j8SyjX41qXzP40xy7fjI+Q/HtCK7kVq5j8fhVUnIzDlP78b1FJINai/Rz98rN0cvz8AkFg5BOqMPyPf6GWaNc4/Ds1ZRTXo8D+VsJMoZVfMP9Kbvwf1kvA/pV4TnFcrsT91NwN1kKDRP8l9yQ7wbdE/pY3+VwPx4z+33kvRzh7VP8nEFNWD6de/1STllsIb0j8oX21EL8y2PwAkQhu5t8w/9QRG5kBd4j/ijFDrsj/dv+CA0gDGJNA/3l8IKHdz8j/soUp+m+/WP1v35HGkDPQ/GuKIxsts9z/+RPpdThD0P4titwdQKu8/9YqkmmBE9T9ifP3wHsDyP+D2a9zEx/E/KjazatUo8z+YvvFQw4ztP95fCCh3c/I/TNVbMZXv+D832SvtkrLuPw==\",\"dtype\":\"float64\",\"order\":\"little\",\"shape\":[53]},\"principal component 2\":{\"__ndarray__\":\"lM0hw3Uh/L+NAFcJ4hrLv/UVlNb76eK/aZSza/eU/b98jGFUCw+fP+vLA01tePC/94KEXbZDBcDH9gYTsCWuv03NqHx+XPy/3Hstxk+8x781LLY26rLbvxW+JkVKZsi/mInUeJ9N6b9l5T6HOSL6v79Ai9CC2fS/twipiLWp2r9Jr8dW+Rvuv+jFU70Krdq/BTfCViNBsL9oGdg+X7fMv2oFEZBX6vC/b8J8cXkE+b9w1i92nSz5v0iekB1e1Oi/EC0SzX5h5L+Cbj2aaPnRv72Ls++KR/a/lcdo/yc3y79CZwsN7Ub1vykJ/oM76fG/4cUd1SI0nD9u68QlE6Xvv9HC5Ku5JADAqks7dJBT67+wjkY+Z2PGv1L2R1TcWdi/fzq1mhitw7+5+86JpaH4v6p6HI5KEeO/UwhbdkNx5r9Dlg29Jfb4v5QxaImirfK/ta9g7els3L9VKnQyOXv7v0vNWXwPR+K/SGwdsBUn37/J2YlbzWjUv/+TgLFv8dK/Ta/b9jwm6r8pAFtSILGTP1MIW3ZDcea/xlrVOlT47L+cCiw2mtGWvw==\",\"dtype\":\"float64\",\"order\":\"little\",\"shape\":[53]},\"principal_component_1\":{\"__ndarray__\":\"fRWMhntt2T9KnJZFWCnxP2mBHlf2mtg/8v4dZv7c3791GywXnaPtP36/kDZaWXQ/AN6FPizsv7+wz+h8JxTcP1lNsk78puE/O0UqJwTz5j/Lz63ghxOjv5Nu06S8RdY/5rIv7V2iwz9n6iTH4XHzPyvYZACmFsQ/Xa1SDE473j8SyjX41qXzP40xy7fjI+Q/HtCK7kVq5j8fhVUnIzDlP78b1FJINai/Rz98rN0cvz8AkFg5BOqMPyPf6GWaNc4/Ds1ZRTXo8D+VsJMoZVfMP9Kbvwf1kvA/pV4TnFcrsT91NwN1kKDRP8l9yQ7wbdE/pY3+VwPx4z+33kvRzh7VP8nEFNWD6de/1STllsIb0j8oX21EL8y2PwAkQhu5t8w/9QRG5kBd4j/ijFDrsj/dv+CA0gDGJNA/3l8IKHdz8j/soUp+m+/WP1v35HGkDPQ/GuKIxsts9z/+RPpdThD0P4titwdQKu8/9YqkmmBE9T9ifP3wHsDyP+D2a9zEx/E/KjazatUo8z+YvvFQw4ztP95fCCh3c/I/TNVbMZXv+D832SvtkrLuPw==\",\"dtype\":\"float64\",\"order\":\"little\",\"shape\":[53]},\"principal_component_2\":{\"__ndarray__\":\"lM0hw3Uh/L+NAFcJ4hrLv/UVlNb76eK/aZSza/eU/b98jGFUCw+fP+vLA01tePC/94KEXbZDBcDH9gYTsCWuv03NqHx+XPy/3Hstxk+8x781LLY26rLbvxW+JkVKZsi/mInUeJ9N6b9l5T6HOSL6v79Ai9CC2fS/twipiLWp2r9Jr8dW+Rvuv+jFU70Krdq/BTfCViNBsL9oGdg+X7fMv2oFEZBX6vC/b8J8cXkE+b9w1i92nSz5v0iekB1e1Oi/EC0SzX5h5L+Cbj2aaPnRv72Ls++KR/a/lcdo/yc3y79CZwsN7Ub1vykJ/oM76fG/4cUd1SI0nD9u68QlE6Xvv9HC5Ku5JADAqks7dJBT67+wjkY+Z2PGv1L2R1TcWdi/fzq1mhitw7+5+86JpaH4v6p6HI5KEeO/UwhbdkNx5r9Dlg29Jfb4v5QxaImirfK/ta9g7els3L9VKnQyOXv7v0vNWXwPR+K/SGwdsBUn37/J2YlbzWjUv/+TgLFv8dK/Ta/b9jwm6r8pAFtSILGTP1MIW3ZDcea/xlrVOlT47L+cCiw2mtGWvw==\",\"dtype\":\"float64\",\"order\":\"little\",\"shape\":[53]}},\"selected\":{\"id\":\"1282\"},\"selection_policy\":{\"id\":\"1300\"}},\"id\":\"1281\",\"type\":\"ColumnDataSource\"},{\"attributes\":{\"callback\":null,\"renderers\":[{\"id\":\"1250\"},{\"id\":\"1268\"},{\"id\":\"1287\"}],\"tags\":[\"hv_created\"],\"tooltips\":[[\"class\",\"@{class}\"],[\"principal component 1\",\"@{principal_component_1}\"],[\"principal component 2\",\"@{principal_component_2}\"]]},\"id\":\"1207\",\"type\":\"HoverTool\"},{\"attributes\":{\"fill_alpha\":{\"value\":0.1},\"fill_color\":{\"value\":\"#ff7e0e\"},\"line_alpha\":{\"value\":0.1},\"line_color\":{\"value\":\"#ff7e0e\"},\"size\":{\"units\":\"screen\",\"value\":5.477225575051661},\"x\":{\"field\":\"principal component 1\"},\"y\":{\"field\":\"principal component 2\"}},\"id\":\"1266\",\"type\":\"Scatter\"},{\"attributes\":{\"fill_alpha\":{\"value\":0.2},\"fill_color\":{\"value\":\"#2ba02b\"},\"line_alpha\":{\"value\":0.2},\"line_color\":{\"value\":\"#2ba02b\"},\"size\":{\"units\":\"screen\",\"value\":5.477225575051661},\"x\":{\"field\":\"principal component 1\"},\"y\":{\"field\":\"principal component 2\"}},\"id\":\"1286\",\"type\":\"Scatter\"},{\"attributes\":{\"label\":{\"value\":\"2\"},\"renderers\":[{\"id\":\"1287\"}]},\"id\":\"1301\",\"type\":\"LegendItem\"},{\"attributes\":{},\"id\":\"1228\",\"type\":\"PanTool\"},{\"attributes\":{\"fill_color\":{\"value\":\"#1f77b3\"},\"line_color\":{\"value\":\"#1f77b3\"},\"size\":{\"units\":\"screen\",\"value\":5.477225575051661},\"x\":{\"field\":\"principal component 1\"},\"y\":{\"field\":\"principal component 2\"}},\"id\":\"1247\",\"type\":\"Scatter\"},{\"attributes\":{},\"id\":\"1229\",\"type\":\"WheelZoomTool\"},{\"attributes\":{},\"id\":\"1300\",\"type\":\"UnionRenderers\"},{\"attributes\":{\"overlay\":{\"id\":\"1232\"}},\"id\":\"1230\",\"type\":\"BoxZoomTool\"},{\"attributes\":{\"data\":{\"class\":{\"__ndarray__\":\"AAAAAAAAAAAAAAAAAAAAAAAAAAAAAAAAAAAAAAAAAAAAAAAAAAAAAAAAAAAAAAAAAAAAAAAAAAAAAAAAAAAAAAAAAAAAAAAAAAAAAAAAAAAAAAAAAAAAAAAAAAAAAAAAAAAAAAAAAAAAAAAAAAAAAAAAAAAAAAAAAAAAAAAAAAAAAAAAAAAAAAAAAAAAAAAAAAAAAAAAAAAAAAAAAAAAAAAAAAAAAAAAAAAAAAAAAAAAAAAAAAAAAAAAAAA=\",\"dtype\":\"int32\",\"order\":\"little\",\"shape\":[47]},\"principal component 1\":{\"__ndarray__\":\"dJicP/Wp8T/pdLjqfHDnP0tUdjeu3/M/kH2nUXn15z+Ct9eWSwfsPwPqCkTLn+c/bYkX1wP06z/tYaNJSxH0PxdwyrRZu/U/XiqW1lWi2z+mboqoZcrwP2JoZCMRkP0/XqOtkJqmAUCvkwP82gT3P8Oof1zh4v0/dUK5SJgIBkDmZzhbjmwCQPYm68uNAwBAIU9oqvMjAkBti3vYw9r1P60QOb/Elfk/PK6UReUl/j8Y0QQIDXj5P3kdkBhdivc/QfYnSsB/A0A1hisDH3kKQJfn9rPvUgBAOi4taDwvB0BCqLnnkUT7P6kJnj3aUv8/HtLu7wVR8D+f2hYHfpP8P4EbVl0h1v0/ivhsDuZ7A0AztjE3VocCQGotB9QUxP0/kU42KVhoBkCy+a/eUEj5P+/OTXR+jfU/PgUQICao/T8PDMQGFyEAQLpqwqkqc/4/Og5TGLJYAEC5eb2NdgMAQPHgNY2o7f0/+IJComFV+D8O9OTEsgX2Pw==\",\"dtype\":\"float64\",\"order\":\"little\",\"shape\":[47]},\"principal component 2\":{\"__ndarray__\":\"3Xb2/Z2e6z8ePDfKBSjjP9zNPSGgrOM/t1+rWRnr6D9lOXqk51HgP5FBqiETwtk/Yp7yIJwL0D/+h7BClya1v0UteShkC9U/Egg+Gkhd6z/Ck6QJ17XgP4Msy2Xw5Os/C8TpFji+4T+clDOr+pqpv+9EGSLnotI/pQetLdY66T9WO0mDhTXaP7KQnq/nKee/wo2XATu+/j81oQKF0jTmP3B9L85taNu/cadDi22E2j8yfGgVRqrlPzQ3rDJONNA/gzlsMT10BECwiqQTDFhjv0N0hSJpCe0/cZKR42l12T+SWt+y8znwP5+AK36oDfA/Zaj7cmzHsD/svEvBKb3Iv5PkXX2vxeE/1l7ipF+Szz8m4TWwbAIFQJaBO1NYo8e/Tys1XS0I6z+mj2oE2yjxPx78A+M9Bts/v6TAq3yE5T/a+zteX4jjP+J2Ilnq8+U/vSJfoH+r6z88eOdp3MbwP/pDMiongNg/ettvjSkT0T8eLdG5BEPwPw==\",\"dtype\":\"float64\",\"order\":\"little\",\"shape\":[47]},\"principal_component_1\":{\"__ndarray__\":\"dJicP/Wp8T/pdLjqfHDnP0tUdjeu3/M/kH2nUXn15z+Ct9eWSwfsPwPqCkTLn+c/bYkX1wP06z/tYaNJSxH0PxdwyrRZu/U/XiqW1lWi2z+mboqoZcrwP2JoZCMRkP0/XqOtkJqmAUCvkwP82gT3P8Oof1zh4v0/dUK5SJgIBkDmZzhbjmwCQPYm68uNAwBAIU9oqvMjAkBti3vYw9r1P60QOb/Elfk/PK6UReUl/j8Y0QQIDXj5P3kdkBhdivc/QfYnSsB/A0A1hisDH3kKQJfn9rPvUgBAOi4taDwvB0BCqLnnkUT7P6kJnj3aUv8/HtLu7wVR8D+f2hYHfpP8P4EbVl0h1v0/ivhsDuZ7A0AztjE3VocCQGotB9QUxP0/kU42KVhoBkCy+a/eUEj5P+/OTXR+jfU/PgUQICao/T8PDMQGFyEAQLpqwqkqc/4/Og5TGLJYAEC5eb2NdgMAQPHgNY2o7f0/+IJComFV+D8O9OTEsgX2Pw==\",\"dtype\":\"float64\",\"order\":\"little\",\"shape\":[47]},\"principal_component_2\":{\"__ndarray__\":\"3Xb2/Z2e6z8ePDfKBSjjP9zNPSGgrOM/t1+rWRnr6D9lOXqk51HgP5FBqiETwtk/Yp7yIJwL0D/+h7BClya1v0UteShkC9U/Egg+Gkhd6z/Ck6QJ17XgP4Msy2Xw5Os/C8TpFji+4T+clDOr+pqpv+9EGSLnotI/pQetLdY66T9WO0mDhTXaP7KQnq/nKee/wo2XATu+/j81oQKF0jTmP3B9L85taNu/cadDi22E2j8yfGgVRqrlPzQ3rDJONNA/gzlsMT10BECwiqQTDFhjv0N0hSJpCe0/cZKR42l12T+SWt+y8znwP5+AK36oDfA/Zaj7cmzHsD/svEvBKb3Iv5PkXX2vxeE/1l7ipF+Szz8m4TWwbAIFQJaBO1NYo8e/Tys1XS0I6z+mj2oE2yjxPx78A+M9Bts/v6TAq3yE5T/a+zteX4jjP+J2Ilnq8+U/vSJfoH+r6z88eOdp3MbwP/pDMiongNg/ettvjSkT0T8eLdG5BEPwPw==\",\"dtype\":\"float64\",\"order\":\"little\",\"shape\":[47]}},\"selected\":{\"id\":\"1245\"},\"selection_policy\":{\"id\":\"1259\"}},\"id\":\"1244\",\"type\":\"ColumnDataSource\"},{\"attributes\":{\"fill_color\":{\"value\":\"#ff7e0e\"},\"line_color\":{\"value\":\"#ff7e0e\"},\"size\":{\"units\":\"screen\",\"value\":5.477225575051661},\"x\":{\"field\":\"principal component 1\"},\"y\":{\"field\":\"principal component 2\"}},\"id\":\"1265\",\"type\":\"Scatter\"},{\"attributes\":{\"text\":\"\",\"text_color\":{\"value\":\"black\"},\"text_font_size\":{\"value\":\"12pt\"}},\"id\":\"1211\",\"type\":\"Title\"},{\"attributes\":{},\"id\":\"1215\",\"type\":\"LinearScale\"},{\"attributes\":{},\"id\":\"1217\",\"type\":\"LinearScale\"},{\"attributes\":{},\"id\":\"1231\",\"type\":\"ResetTool\"},{\"attributes\":{\"data_source\":{\"id\":\"1262\"},\"glyph\":{\"id\":\"1265\"},\"hover_glyph\":null,\"muted_glyph\":{\"id\":\"1267\"},\"nonselection_glyph\":{\"id\":\"1266\"},\"selection_glyph\":null,\"view\":{\"id\":\"1269\"}},\"id\":\"1268\",\"type\":\"GlyphRenderer\"}],\"root_ids\":[\"1203\"]},\"title\":\"Bokeh Application\",\"version\":\"2.2.3\"}};\n",
       "    var render_items = [{\"docid\":\"6d3443a0-e96e-4089-ad0b-596b2945defc\",\"root_ids\":[\"1203\"],\"roots\":{\"1203\":\"1ac8d09f-c0cf-44cb-8a4c-0bcf47919f3c\"}}];\n",
       "    root.Bokeh.embed.embed_items_notebook(docs_json, render_items);\n",
       "  }\n",
       "  if (root.Bokeh !== undefined && root.Bokeh.Panel !== undefined) {\n",
       "    embed_document(root);\n",
       "  } else {\n",
       "    var attempts = 0;\n",
       "    var timer = setInterval(function(root) {\n",
       "      if (root.Bokeh !== undefined && root.Bokeh.Panel !== undefined) {\n",
       "        clearInterval(timer);\n",
       "        embed_document(root);\n",
       "      } else if (document.readyState == \"complete\") {\n",
       "        attempts++;\n",
       "        if (attempts > 100) {\n",
       "          clearInterval(timer);\n",
       "          console.log(\"Bokeh: ERROR: Unable to run BokehJS code because BokehJS library is missing\");\n",
       "        }\n",
       "      }\n",
       "    }, 10, root)\n",
       "  }\n",
       "})(window);</script>"
      ],
      "text/plain": [
       ":NdOverlay   [class]\n",
       "   :Scatter   [principal component 1]   (principal component 2,class)"
      ]
     },
     "execution_count": 26,
     "metadata": {
      "application/vnd.holoviews_exec.v0+json": {
       "id": "1203"
      }
     },
     "output_type": "execute_result"
    }
   ],
   "source": [
    "#plot the data\n",
    "iris_pca_df.hvplot.scatter(\n",
    "    x = \"principal component 1\",\n",
    "    y = \"principal component 2\",\n",
    "    hover_cols = [\"class\"],\n",
    "    by = \"class\"\n",
    ")"
   ]
  },
  {
   "cell_type": "code",
   "execution_count": null,
   "metadata": {},
   "outputs": [],
   "source": []
  }
 ],
 "metadata": {
  "kernelspec": {
   "display_name": "mlenv",
   "language": "python",
   "name": "mlenv"
  },
  "language_info": {
   "codemirror_mode": {
    "name": "ipython",
    "version": 3
   },
   "file_extension": ".py",
   "mimetype": "text/x-python",
   "name": "python",
   "nbconvert_exporter": "python",
   "pygments_lexer": "ipython3",
   "version": "3.7.9"
  }
 },
 "nbformat": 4,
 "nbformat_minor": 4
}
